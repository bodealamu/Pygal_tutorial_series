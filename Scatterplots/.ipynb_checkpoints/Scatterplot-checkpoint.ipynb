{
 "cells": [
  {
   "cell_type": "markdown",
   "metadata": {},
   "source": [
    "# Scatterplots using Pygal"
   ]
  },
  {
   "cell_type": "code",
   "execution_count": 1,
   "metadata": {},
   "outputs": [],
   "source": [
    "import pygal\n",
    "import pandas"
   ]
  },
  {
   "cell_type": "code",
   "execution_count": 3,
   "metadata": {},
   "outputs": [],
   "source": [
    "# Basic XY plot\n",
    "xyplot = pygal.XY(title='Basic XY plot', x_title='X', y_title='Y')\n",
    "xyplot.add(title='XY values', values=[(0,1),(2,3),(4,4),(5,5), (7,9) ])\n",
    "xyplot.add(title='another plot',values=[(2,3), (4,5), (9,3), (4,6)])\n",
    "xyplot.render_to_file('xy.svg')"
   ]
  },
  {
   "cell_type": "code",
   "execution_count": null,
   "metadata": {},
   "outputs": [],
   "source": []
  },
  {
   "cell_type": "code",
   "execution_count": 6,
   "metadata": {},
   "outputs": [],
   "source": [
    "# basic scatterplot\n",
    "scatterplot = pygal.XY(title='Basic scatterplot', x_title='X', y_title='Y', stroke=False)\n",
    "scatterplot.add(title='XY values', values=[(0,1),(2,3),(4,4),(5,5), (7,9) ])\n",
    "scatterplot.add(title='another plot',values=[(2,3), (4,5), (9,3), (4,6)])\n",
    "scatterplot.render_to_file('scatter_xy.svg')"
   ]
  },
  {
   "cell_type": "code",
   "execution_count": null,
   "metadata": {},
   "outputs": [],
   "source": []
  }
 ],
 "metadata": {
  "kernelspec": {
   "display_name": "Python 3",
   "language": "python",
   "name": "python3"
  },
  "language_info": {
   "codemirror_mode": {
    "name": "ipython",
    "version": 3
   },
   "file_extension": ".py",
   "mimetype": "text/x-python",
   "name": "python",
   "nbconvert_exporter": "python",
   "pygments_lexer": "ipython3",
   "version": "3.6.6"
  }
 },
 "nbformat": 4,
 "nbformat_minor": 4
}
